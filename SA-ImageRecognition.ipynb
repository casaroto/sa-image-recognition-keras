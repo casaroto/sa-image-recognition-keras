{
 "cells": [
  {
   "cell_type": "code",
   "execution_count": 12,
   "id": "12c57236",
   "metadata": {},
   "outputs": [],
   "source": [
    "import numpy\n",
    "from tensorflow import keras\n",
    "from keras.constraints import maxnorm\n",
    "from keras.utils import np_utils"
   ]
  },
  {
   "cell_type": "code",
   "execution_count": 13,
   "id": "06daf893",
   "metadata": {},
   "outputs": [],
   "source": [
    "seed = 21"
   ]
  },
  {
   "cell_type": "code",
   "execution_count": 14,
   "id": "cca0473f",
   "metadata": {},
   "outputs": [],
   "source": [
    "from keras.datasets import cifar10"
   ]
  },
  {
   "cell_type": "code",
   "execution_count": 15,
   "id": "3d516cf5",
   "metadata": {},
   "outputs": [],
   "source": [
    "(X_train, y_train), (X_test, y_test) = cifar10.load_data()"
   ]
  },
  {
   "cell_type": "code",
   "execution_count": 16,
   "id": "32105162",
   "metadata": {},
   "outputs": [],
   "source": [
    "X_train = X_train.astype('float32')\n",
    "X_test = X_test.astype('float32')\n",
    "X_train = X_train / 255.0\n",
    "X_test = X_test / 255.0"
   ]
  },
  {
   "cell_type": "code",
   "execution_count": 17,
   "id": "dd3290eb",
   "metadata": {},
   "outputs": [],
   "source": [
    "y_train = np_utils.to_categorical(y_train)\n",
    "y_test = np_utils.to_categorical(y_test)\n",
    "class_num = y_test.shape[1]"
   ]
  },
  {
   "cell_type": "code",
   "execution_count": 18,
   "id": "b7f63e44",
   "metadata": {},
   "outputs": [],
   "source": [
    "model = keras.Sequential()"
   ]
  },
  {
   "cell_type": "code",
   "execution_count": 19,
   "id": "020a725a",
   "metadata": {},
   "outputs": [
    {
     "name": "stdout",
     "output_type": "stream",
     "text": [
      "Model: \"sequential_1\"\n",
      "_________________________________________________________________\n",
      " Layer (type)                Output Shape              Param #   \n",
      "=================================================================\n",
      " conv2d_4 (Conv2D)           (None, 32, 32, 32)        896       \n",
      "                                                                 \n",
      " dropout_6 (Dropout)         (None, 32, 32, 32)        0         \n",
      "                                                                 \n",
      " batch_normalization_5 (Batc  (None, 32, 32, 32)       128       \n",
      " hNormalization)                                                 \n",
      "                                                                 \n",
      " conv2d_5 (Conv2D)           (None, 32, 32, 64)        18496     \n",
      "                                                                 \n",
      " max_pooling2d_2 (MaxPooling  (None, 16, 16, 64)       0         \n",
      " 2D)                                                             \n",
      "                                                                 \n",
      " dropout_7 (Dropout)         (None, 16, 16, 64)        0         \n",
      "                                                                 \n",
      " batch_normalization_6 (Batc  (None, 16, 16, 64)       256       \n",
      " hNormalization)                                                 \n",
      "                                                                 \n",
      " conv2d_6 (Conv2D)           (None, 16, 16, 64)        36928     \n",
      "                                                                 \n",
      " max_pooling2d_3 (MaxPooling  (None, 8, 8, 64)         0         \n",
      " 2D)                                                             \n",
      "                                                                 \n",
      " dropout_8 (Dropout)         (None, 8, 8, 64)          0         \n",
      "                                                                 \n",
      " batch_normalization_7 (Batc  (None, 8, 8, 64)         256       \n",
      " hNormalization)                                                 \n",
      "                                                                 \n",
      " conv2d_7 (Conv2D)           (None, 8, 8, 128)         73856     \n",
      "                                                                 \n",
      " dropout_9 (Dropout)         (None, 8, 8, 128)         0         \n",
      "                                                                 \n",
      " batch_normalization_8 (Batc  (None, 8, 8, 128)        512       \n",
      " hNormalization)                                                 \n",
      "                                                                 \n",
      " flatten_1 (Flatten)         (None, 8192)              0         \n",
      "                                                                 \n",
      " dropout_10 (Dropout)        (None, 8192)              0         \n",
      "                                                                 \n",
      " dense_2 (Dense)             (None, 32)                262176    \n",
      "                                                                 \n",
      " dropout_11 (Dropout)        (None, 32)                0         \n",
      "                                                                 \n",
      " batch_normalization_9 (Batc  (None, 32)               128       \n",
      " hNormalization)                                                 \n",
      "                                                                 \n",
      " dense_3 (Dense)             (None, 10)                330       \n",
      "                                                                 \n",
      "=================================================================\n",
      "Total params: 393,962\n",
      "Trainable params: 393,322\n",
      "Non-trainable params: 640\n",
      "_________________________________________________________________\n",
      "None\n"
     ]
    }
   ],
   "source": [
    "model.add(keras.layers.Conv2D(32, 3, input_shape=(32, 32, 3), activation='relu', padding='same'))\n",
    "model.add(keras.layers.Dropout(0.2))\n",
    "model.add(keras.layers.BatchNormalization())\n",
    "\n",
    "model.add(keras.layers.Conv2D(64, (3, 3), padding='same', activation='relu'))\n",
    "model.add(keras.layers.MaxPooling2D(2))\n",
    "model.add(keras.layers.Dropout(0.2))\n",
    "model.add(keras.layers.BatchNormalization())\n",
    "\n",
    "model.add(keras.layers.Conv2D(64, 3, padding='same', activation='relu'))\n",
    "model.add(keras.layers.MaxPooling2D(2))\n",
    "model.add(keras.layers.Dropout(0.2))\n",
    "model.add(keras.layers.BatchNormalization())\n",
    "    \n",
    "model.add(keras.layers.Conv2D(128, (3, 3), padding='same', activation='relu'))\n",
    "model.add(keras.layers.Dropout(0.2))\n",
    "model.add(keras.layers.BatchNormalization())\n",
    "\n",
    "model.add(keras.layers.Flatten())\n",
    "model.add(keras.layers.Dropout(0.2))\n",
    "model.add(keras.layers.Dense(32, activation='relu'))\n",
    "model.add(keras.layers.Dropout(0.3))\n",
    "model.add(keras.layers.BatchNormalization())\n",
    "\n",
    "model.add(keras.layers.Dense(class_num, activation='softmax'))\n",
    "\n",
    "model.compile(loss='categorical_crossentropy', optimizer='adam', metrics=['accuracy'])\n",
    "\n",
    "print(model.summary())"
   ]
  },
  {
   "cell_type": "code",
   "execution_count": 20,
   "id": "c64da83b",
   "metadata": {
    "scrolled": true
   },
   "outputs": [
    {
     "name": "stdout",
     "output_type": "stream",
     "text": [
      "Epoch 1/25\n",
      "782/782 [==============================] - 142s 181ms/step - loss: 1.5623 - accuracy: 0.4417 - val_loss: 1.2249 - val_accuracy: 0.5621\n",
      "Epoch 2/25\n",
      "782/782 [==============================] - 143s 183ms/step - loss: 1.1387 - accuracy: 0.5998 - val_loss: 0.9261 - val_accuracy: 0.6776\n",
      "Epoch 3/25\n",
      "782/782 [==============================] - 133s 170ms/step - loss: 0.9854 - accuracy: 0.6556 - val_loss: 0.8476 - val_accuracy: 0.7081\n",
      "Epoch 4/25\n",
      "782/782 [==============================] - 132s 169ms/step - loss: 0.8986 - accuracy: 0.6878 - val_loss: 0.9595 - val_accuracy: 0.6755\n",
      "Epoch 5/25\n",
      "782/782 [==============================] - 132s 169ms/step - loss: 0.8345 - accuracy: 0.7110 - val_loss: 0.7111 - val_accuracy: 0.7521\n",
      "Epoch 6/25\n",
      "782/782 [==============================] - 131s 168ms/step - loss: 0.7812 - accuracy: 0.7317 - val_loss: 0.7304 - val_accuracy: 0.7465\n",
      "Epoch 7/25\n",
      "782/782 [==============================] - 130s 167ms/step - loss: 0.7443 - accuracy: 0.7423 - val_loss: 0.6832 - val_accuracy: 0.7616\n",
      "Epoch 8/25\n",
      "782/782 [==============================] - 130s 166ms/step - loss: 0.7083 - accuracy: 0.7561 - val_loss: 0.6367 - val_accuracy: 0.7795\n",
      "Epoch 9/25\n",
      "782/782 [==============================] - 129s 166ms/step - loss: 0.6842 - accuracy: 0.7638 - val_loss: 0.6443 - val_accuracy: 0.7805\n",
      "Epoch 10/25\n",
      "782/782 [==============================] - 129s 165ms/step - loss: 0.6591 - accuracy: 0.7710 - val_loss: 0.6352 - val_accuracy: 0.7833\n",
      "Epoch 11/25\n",
      "782/782 [==============================] - 129s 165ms/step - loss: 0.6418 - accuracy: 0.7775 - val_loss: 0.6006 - val_accuracy: 0.7927\n",
      "Epoch 12/25\n",
      "782/782 [==============================] - 130s 167ms/step - loss: 0.6170 - accuracy: 0.7856 - val_loss: 0.6326 - val_accuracy: 0.7909\n",
      "Epoch 13/25\n",
      "782/782 [==============================] - 130s 166ms/step - loss: 0.6062 - accuracy: 0.7899 - val_loss: 0.6260 - val_accuracy: 0.7921\n",
      "Epoch 14/25\n",
      "782/782 [==============================] - 128s 164ms/step - loss: 0.5867 - accuracy: 0.7961 - val_loss: 0.6067 - val_accuracy: 0.7984\n",
      "Epoch 15/25\n",
      "782/782 [==============================] - 128s 164ms/step - loss: 0.5759 - accuracy: 0.8010 - val_loss: 0.5741 - val_accuracy: 0.8073\n",
      "Epoch 16/25\n",
      "782/782 [==============================] - 128s 164ms/step - loss: 0.5631 - accuracy: 0.8037 - val_loss: 0.5807 - val_accuracy: 0.8051\n",
      "Epoch 17/25\n",
      "782/782 [==============================] - 129s 164ms/step - loss: 0.5591 - accuracy: 0.8069 - val_loss: 0.5500 - val_accuracy: 0.8149\n",
      "Epoch 18/25\n",
      "782/782 [==============================] - 130s 166ms/step - loss: 0.5475 - accuracy: 0.8074 - val_loss: 0.5456 - val_accuracy: 0.8171\n",
      "Epoch 19/25\n",
      "782/782 [==============================] - 129s 164ms/step - loss: 0.5342 - accuracy: 0.8154 - val_loss: 0.5473 - val_accuracy: 0.8139\n",
      "Epoch 20/25\n",
      "782/782 [==============================] - 129s 165ms/step - loss: 0.5270 - accuracy: 0.8179 - val_loss: 0.5613 - val_accuracy: 0.8118\n",
      "Epoch 21/25\n",
      "782/782 [==============================] - 129s 165ms/step - loss: 0.5172 - accuracy: 0.8187 - val_loss: 0.5918 - val_accuracy: 0.8037\n",
      "Epoch 22/25\n",
      "782/782 [==============================] - 130s 167ms/step - loss: 0.5103 - accuracy: 0.8215 - val_loss: 0.5377 - val_accuracy: 0.8199\n",
      "Epoch 23/25\n",
      "782/782 [==============================] - 130s 167ms/step - loss: 0.5022 - accuracy: 0.8238 - val_loss: 0.5365 - val_accuracy: 0.8194\n",
      "Epoch 24/25\n",
      "782/782 [==============================] - 130s 167ms/step - loss: 0.4922 - accuracy: 0.8300 - val_loss: 0.5367 - val_accuracy: 0.8227\n",
      "Epoch 25/25\n",
      "782/782 [==============================] - 130s 166ms/step - loss: 0.4884 - accuracy: 0.8304 - val_loss: 0.5374 - val_accuracy: 0.8180\n"
     ]
    }
   ],
   "source": [
    "numpy.random.seed(seed)\n",
    "history = model.fit(X_train, y_train, validation_data=(X_test, y_test), epochs=25, batch_size=64)"
   ]
  },
  {
   "cell_type": "code",
   "execution_count": 36,
   "id": "1d0da20c",
   "metadata": {},
   "outputs": [
    {
     "name": "stdout",
     "output_type": "stream",
     "text": [
      "[[0. 0. 0. ... 0. 0. 0.]\n",
      " [0. 0. 0. ... 0. 1. 0.]\n",
      " [0. 0. 0. ... 0. 1. 0.]\n",
      " ...\n",
      " [0. 0. 0. ... 0. 0. 0.]\n",
      " [0. 1. 0. ... 0. 0. 0.]\n",
      " [0. 0. 0. ... 1. 0. 0.]]\n"
     ]
    }
   ],
   "source": [
    "model.evaluate(X_test, y_test, verbose=0)\n",
    "print (y_test)"
   ]
  },
  {
   "cell_type": "code",
   "execution_count": 34,
   "id": "4025dde9",
   "metadata": {},
   "outputs": [
    {
     "data": {
      "image/png": "[encoded data removed]",
      "text/plain": [
       "<Figure size 432x288 with 1 Axes>"
      ]
     },
     "metadata": {
      "needs_background": "light"
     },
     "output_type": "display_data"
    }
   ],
   "source": [
    "import pandas as pd\n",
    "import matplotlib.pyplot as plt\n",
    "\n",
    "pd.DataFrame(history.history).plot()\n",
    "plt.show()"
   ]
  },
  {
   "cell_type": "code",
   "execution_count": 32,
   "id": "51013519",
   "metadata": {},
   "outputs": [
    {
     "name": "stdout",
     "output_type": "stream",
     "text": [
      "samerewrewre\n"
     ]
    }
   ],
   "source": [
    "print ('samerewrewre')"
   ]
  },
  {
   "cell_type": "code",
   "execution_count": null,
   "id": "89d62ee9",
   "metadata": {},
   "outputs": [],
   "source": []
  }
 ],
 "metadata": {
  "kernelspec": {
   "display_name": "Python 3 (ipykernel)",
   "language": "python",
   "name": "python3"
  },
  "language_info": {
   "codemirror_mode": {
    "name": "ipython",
    "version": 3
   },
   "file_extension": ".py",
   "mimetype": "text/x-python",
   "name": "python",
   "nbconvert_exporter": "python",
   "pygments_lexer": "ipython3",
   "version": "3.7.13"
  }
 },
 "nbformat": 4,
 "nbformat_minor": 5
}
